{
  "nbformat": 4,
  "nbformat_minor": 0,
  "metadata": {
    "colab": {
      "name": "Untitled0.ipynb",
      "provenance": []
    },
    "kernelspec": {
      "name": "python3",
      "display_name": "Python 3"
    }
  },
  "cells": [
    {
      "cell_type": "markdown",
      "metadata": {
        "id": "9hsqBv4ubM3Z"
      },
      "source": [
        "**Importing Module**"
      ]
    },
    {
      "cell_type": "code",
      "metadata": {
        "id": "m_eQqsNzLpir"
      },
      "source": [
        "import pandas as pd"
      ],
      "execution_count": 1,
      "outputs": []
    },
    {
      "cell_type": "markdown",
      "metadata": {
        "id": "Fq8gJMvibXsH"
      },
      "source": [
        "**Dataset Load**"
      ]
    },
    {
      "cell_type": "code",
      "metadata": {
        "id": "AHINwvQ2RKP7"
      },
      "source": [
        "df = pd.read_csv('employees.csv')"
      ],
      "execution_count": 2,
      "outputs": []
    },
    {
      "cell_type": "markdown",
      "metadata": {
        "id": "JTS0d3gPbiNt"
      },
      "source": [
        "**Display First Five row of dataframe**"
      ]
    },
    {
      "cell_type": "code",
      "metadata": {
        "id": "cFAAf6ILRwi6",
        "outputId": "508c0aa0-c4b4-471b-e300-787b32e45711",
        "colab": {
          "base_uri": "https://localhost:8080/",
          "height": 204
        }
      },
      "source": [
        "df.head()"
      ],
      "execution_count": 3,
      "outputs": [
        {
          "output_type": "execute_result",
          "data": {
            "text/html": [
              "<div>\n",
              "<style scoped>\n",
              "    .dataframe tbody tr th:only-of-type {\n",
              "        vertical-align: middle;\n",
              "    }\n",
              "\n",
              "    .dataframe tbody tr th {\n",
              "        vertical-align: top;\n",
              "    }\n",
              "\n",
              "    .dataframe thead th {\n",
              "        text-align: right;\n",
              "    }\n",
              "</style>\n",
              "<table border=\"1\" class=\"dataframe\">\n",
              "  <thead>\n",
              "    <tr style=\"text-align: right;\">\n",
              "      <th></th>\n",
              "      <th>First Name</th>\n",
              "      <th>Gender</th>\n",
              "      <th>Start Date</th>\n",
              "      <th>Last Login Time</th>\n",
              "      <th>Salary</th>\n",
              "      <th>Bonus %</th>\n",
              "      <th>Senior Management</th>\n",
              "      <th>Team</th>\n",
              "    </tr>\n",
              "  </thead>\n",
              "  <tbody>\n",
              "    <tr>\n",
              "      <th>0</th>\n",
              "      <td>Douglas</td>\n",
              "      <td>Male</td>\n",
              "      <td>8/6/1993</td>\n",
              "      <td>12:42 PM</td>\n",
              "      <td>97308</td>\n",
              "      <td>6.945</td>\n",
              "      <td>True</td>\n",
              "      <td>Marketing</td>\n",
              "    </tr>\n",
              "    <tr>\n",
              "      <th>1</th>\n",
              "      <td>Thomas</td>\n",
              "      <td>Male</td>\n",
              "      <td>3/31/1996</td>\n",
              "      <td>6:53 AM</td>\n",
              "      <td>61933</td>\n",
              "      <td>4.170</td>\n",
              "      <td>True</td>\n",
              "      <td>NaN</td>\n",
              "    </tr>\n",
              "    <tr>\n",
              "      <th>2</th>\n",
              "      <td>Maria</td>\n",
              "      <td>Female</td>\n",
              "      <td>4/23/1993</td>\n",
              "      <td>11:17 AM</td>\n",
              "      <td>130590</td>\n",
              "      <td>11.858</td>\n",
              "      <td>False</td>\n",
              "      <td>Finance</td>\n",
              "    </tr>\n",
              "    <tr>\n",
              "      <th>3</th>\n",
              "      <td>Jerry</td>\n",
              "      <td>Male</td>\n",
              "      <td>3/4/2005</td>\n",
              "      <td>1:00 PM</td>\n",
              "      <td>138705</td>\n",
              "      <td>9.340</td>\n",
              "      <td>True</td>\n",
              "      <td>Finance</td>\n",
              "    </tr>\n",
              "    <tr>\n",
              "      <th>4</th>\n",
              "      <td>Larry</td>\n",
              "      <td>Male</td>\n",
              "      <td>1/24/1998</td>\n",
              "      <td>4:47 PM</td>\n",
              "      <td>101004</td>\n",
              "      <td>1.389</td>\n",
              "      <td>True</td>\n",
              "      <td>Client Services</td>\n",
              "    </tr>\n",
              "  </tbody>\n",
              "</table>\n",
              "</div>"
            ],
            "text/plain": [
              "  First Name  Gender Start Date  ... Bonus %  Senior Management             Team\n",
              "0    Douglas    Male   8/6/1993  ...   6.945               True        Marketing\n",
              "1     Thomas    Male  3/31/1996  ...   4.170               True              NaN\n",
              "2      Maria  Female  4/23/1993  ...  11.858              False          Finance\n",
              "3      Jerry    Male   3/4/2005  ...   9.340               True          Finance\n",
              "4      Larry    Male  1/24/1998  ...   1.389               True  Client Services\n",
              "\n",
              "[5 rows x 8 columns]"
            ]
          },
          "metadata": {
            "tags": []
          },
          "execution_count": 3
        }
      ]
    },
    {
      "cell_type": "markdown",
      "metadata": {
        "id": "62fdZhe1bpZT"
      },
      "source": [
        "**Drop row contain NaN values from dataframe**"
      ]
    },
    {
      "cell_type": "code",
      "metadata": {
        "id": "uy98ur9-W13E"
      },
      "source": [
        "df.dropna(inplace=True)"
      ],
      "execution_count": 4,
      "outputs": []
    },
    {
      "cell_type": "markdown",
      "metadata": {
        "id": "InscpDecbzgY"
      },
      "source": [
        "**Shape of Dataframe**"
      ]
    },
    {
      "cell_type": "code",
      "metadata": {
        "id": "J8Wg5HeJRyI6",
        "outputId": "4fb1df73-ea6f-4c22-cf96-2bba54cdcc75",
        "colab": {
          "base_uri": "https://localhost:8080/"
        }
      },
      "source": [
        "df.shape"
      ],
      "execution_count": 5,
      "outputs": [
        {
          "output_type": "execute_result",
          "data": {
            "text/plain": [
              "(764, 8)"
            ]
          },
          "metadata": {
            "tags": []
          },
          "execution_count": 5
        }
      ]
    },
    {
      "cell_type": "markdown",
      "metadata": {
        "id": "AJuV8ef6lRkn"
      },
      "source": [
        "**Creating copy of original dataframe**"
      ]
    },
    {
      "cell_type": "code",
      "metadata": {
        "id": "vHHfA6N8lNGk"
      },
      "source": [
        "df1 = df"
      ],
      "execution_count": 6,
      "outputs": []
    },
    {
      "cell_type": "markdown",
      "metadata": {
        "id": "bWaA1fWrb9Bc"
      },
      "source": [
        "**Display Duplicates in dataframe**\n",
        "\n",
        "---\n",
        "If duplicates row present in dataframe then display True else False\n",
        "\n"
      ]
    },
    {
      "cell_type": "code",
      "metadata": {
        "id": "dMZvVCtKSedg",
        "outputId": "8fb6db14-be64-47ba-eec8-107367f5b3f3",
        "colab": {
          "base_uri": "https://localhost:8080/"
        }
      },
      "source": [
        "df1.duplicated()"
      ],
      "execution_count": 7,
      "outputs": [
        {
          "output_type": "execute_result",
          "data": {
            "text/plain": [
              "0      False\n",
              "2      False\n",
              "3      False\n",
              "4      False\n",
              "5      False\n",
              "       ...  \n",
              "994    False\n",
              "996    False\n",
              "997    False\n",
              "998    False\n",
              "999    False\n",
              "Length: 764, dtype: bool"
            ]
          },
          "metadata": {
            "tags": []
          },
          "execution_count": 7
        }
      ]
    },
    {
      "cell_type": "markdown",
      "metadata": {
        "id": "KdvZxaHFchbg"
      },
      "source": [
        "**Shape of dataframe after removing duplicate rows from dataframe**"
      ]
    },
    {
      "cell_type": "code",
      "metadata": {
        "id": "Ni9LTzk7So_Y",
        "outputId": "270eab3b-79aa-4cf9-8307-933f9789de48",
        "colab": {
          "base_uri": "https://localhost:8080/"
        }
      },
      "source": [
        "(df1.drop_duplicates()).shape"
      ],
      "execution_count": 8,
      "outputs": [
        {
          "output_type": "execute_result",
          "data": {
            "text/plain": [
              "(764, 8)"
            ]
          },
          "metadata": {
            "tags": []
          },
          "execution_count": 8
        }
      ]
    },
    {
      "cell_type": "markdown",
      "metadata": {
        "id": "wdcT6i1bcqdD"
      },
      "source": [
        "**Sort the rows** on behave of column name as 'First Name' in dataframe"
      ]
    },
    {
      "cell_type": "code",
      "metadata": {
        "id": "R2M0ruqHTRYi"
      },
      "source": [
        "df1.sort_values('First Name', inplace=True)"
      ],
      "execution_count": 9,
      "outputs": []
    },
    {
      "cell_type": "markdown",
      "metadata": {
        "id": "6TFKmkGQc-pl"
      },
      "source": [
        "diaplay values in column 'First Name'"
      ]
    },
    {
      "cell_type": "code",
      "metadata": {
        "id": "JNnCRh8EV-dR",
        "outputId": "17b0fc8e-7e2f-4588-d398-4446c1213360",
        "colab": {
          "base_uri": "https://localhost:8080/"
        }
      },
      "source": [
        "df1['First Name']"
      ],
      "execution_count": 10,
      "outputs": [
        {
          "output_type": "execute_result",
          "data": {
            "text/plain": [
              "440     Aaron\n",
              "327     Aaron\n",
              "101     Aaron\n",
              "137      Adam\n",
              "538      Adam\n",
              "        ...  \n",
              "112    Willie\n",
              "652    Willie\n",
              "204    Willie\n",
              "450    Willie\n",
              "175    Willie\n",
              "Name: First Name, Length: 764, dtype: object"
            ]
          },
          "metadata": {
            "tags": []
          },
          "execution_count": 10
        }
      ]
    },
    {
      "cell_type": "markdown",
      "metadata": {
        "id": "Mp459wzmdIWD"
      },
      "source": [
        "**Shows duplicates values present in column 'First Name'**"
      ]
    },
    {
      "cell_type": "code",
      "metadata": {
        "id": "8P4qgWcmWtzH",
        "outputId": "26a0dbaf-2699-44f5-cac8-2a1d15b07624",
        "colab": {
          "base_uri": "https://localhost:8080/"
        }
      },
      "source": [
        "df1['First Name'].duplicated()"
      ],
      "execution_count": 11,
      "outputs": [
        {
          "output_type": "execute_result",
          "data": {
            "text/plain": [
              "440    False\n",
              "327     True\n",
              "101     True\n",
              "137    False\n",
              "538     True\n",
              "       ...  \n",
              "112    False\n",
              "652     True\n",
              "204     True\n",
              "450     True\n",
              "175     True\n",
              "Name: First Name, Length: 764, dtype: bool"
            ]
          },
          "metadata": {
            "tags": []
          },
          "execution_count": 11
        }
      ]
    },
    {
      "cell_type": "markdown",
      "metadata": {
        "id": "QCLfzPi1fbc3"
      },
      "source": [
        "**Note:- About \"keep\" parameter in drop_duplicates**\n",
        "\n",
        "\n",
        "---\n",
        "\n",
        "1.  keep = 'First' :- means Drop duplicates except for the first occurrence. (**default**)\n",
        "2.  keep = 'last'  :- means Drop duplicates except for the last occurrence.\n",
        "3.  keep = False  :- means Drop all duplicates"
      ]
    },
    {
      "cell_type": "markdown",
      "metadata": {
        "id": "KTQmGTsydVUN"
      },
      "source": [
        "**Removing duplicate using one column in dataframe**\n",
        "\n",
        "---\n",
        "\n",
        "Note:- default status of **inplace ** is false, so changes in original dataframe is not reflacted\n"
      ]
    },
    {
      "cell_type": "code",
      "metadata": {
        "id": "B1CxqAhcV37j",
        "outputId": "a162af83-7b12-4e88-eab4-bdea1d917396",
        "colab": {
          "base_uri": "https://localhost:8080/",
          "height": 419
        }
      },
      "source": [
        "df1.drop_duplicates(subset=['First Name'], keep='first')"
      ],
      "execution_count": 12,
      "outputs": [
        {
          "output_type": "execute_result",
          "data": {
            "text/html": [
              "<div>\n",
              "<style scoped>\n",
              "    .dataframe tbody tr th:only-of-type {\n",
              "        vertical-align: middle;\n",
              "    }\n",
              "\n",
              "    .dataframe tbody tr th {\n",
              "        vertical-align: top;\n",
              "    }\n",
              "\n",
              "    .dataframe thead th {\n",
              "        text-align: right;\n",
              "    }\n",
              "</style>\n",
              "<table border=\"1\" class=\"dataframe\">\n",
              "  <thead>\n",
              "    <tr style=\"text-align: right;\">\n",
              "      <th></th>\n",
              "      <th>First Name</th>\n",
              "      <th>Gender</th>\n",
              "      <th>Start Date</th>\n",
              "      <th>Last Login Time</th>\n",
              "      <th>Salary</th>\n",
              "      <th>Bonus %</th>\n",
              "      <th>Senior Management</th>\n",
              "      <th>Team</th>\n",
              "    </tr>\n",
              "  </thead>\n",
              "  <tbody>\n",
              "    <tr>\n",
              "      <th>440</th>\n",
              "      <td>Aaron</td>\n",
              "      <td>Male</td>\n",
              "      <td>7/22/1990</td>\n",
              "      <td>2:53 PM</td>\n",
              "      <td>52119</td>\n",
              "      <td>11.343</td>\n",
              "      <td>True</td>\n",
              "      <td>Client Services</td>\n",
              "    </tr>\n",
              "    <tr>\n",
              "      <th>137</th>\n",
              "      <td>Adam</td>\n",
              "      <td>Male</td>\n",
              "      <td>5/21/2011</td>\n",
              "      <td>1:45 AM</td>\n",
              "      <td>95327</td>\n",
              "      <td>15.120</td>\n",
              "      <td>False</td>\n",
              "      <td>Distribution</td>\n",
              "    </tr>\n",
              "    <tr>\n",
              "      <th>610</th>\n",
              "      <td>Alan</td>\n",
              "      <td>Male</td>\n",
              "      <td>2/17/2012</td>\n",
              "      <td>12:26 AM</td>\n",
              "      <td>41453</td>\n",
              "      <td>10.084</td>\n",
              "      <td>False</td>\n",
              "      <td>Product</td>\n",
              "    </tr>\n",
              "    <tr>\n",
              "      <th>372</th>\n",
              "      <td>Albert</td>\n",
              "      <td>Male</td>\n",
              "      <td>2/1/1997</td>\n",
              "      <td>4:20 PM</td>\n",
              "      <td>67827</td>\n",
              "      <td>19.717</td>\n",
              "      <td>True</td>\n",
              "      <td>Engineering</td>\n",
              "    </tr>\n",
              "    <tr>\n",
              "      <th>425</th>\n",
              "      <td>Alice</td>\n",
              "      <td>Female</td>\n",
              "      <td>5/2/1986</td>\n",
              "      <td>1:50 AM</td>\n",
              "      <td>51395</td>\n",
              "      <td>2.378</td>\n",
              "      <td>True</td>\n",
              "      <td>Finance</td>\n",
              "    </tr>\n",
              "    <tr>\n",
              "      <th>...</th>\n",
              "      <td>...</td>\n",
              "      <td>...</td>\n",
              "      <td>...</td>\n",
              "      <td>...</td>\n",
              "      <td>...</td>\n",
              "      <td>...</td>\n",
              "      <td>...</td>\n",
              "      <td>...</td>\n",
              "    </tr>\n",
              "    <tr>\n",
              "      <th>899</th>\n",
              "      <td>Walter</td>\n",
              "      <td>Male</td>\n",
              "      <td>5/21/1992</td>\n",
              "      <td>12:39 AM</td>\n",
              "      <td>144701</td>\n",
              "      <td>16.323</td>\n",
              "      <td>True</td>\n",
              "      <td>Marketing</td>\n",
              "    </tr>\n",
              "    <tr>\n",
              "      <th>433</th>\n",
              "      <td>Wanda</td>\n",
              "      <td>Female</td>\n",
              "      <td>7/20/2008</td>\n",
              "      <td>1:44 PM</td>\n",
              "      <td>65362</td>\n",
              "      <td>7.132</td>\n",
              "      <td>True</td>\n",
              "      <td>Legal</td>\n",
              "    </tr>\n",
              "    <tr>\n",
              "      <th>637</th>\n",
              "      <td>Wayne</td>\n",
              "      <td>Male</td>\n",
              "      <td>9/2/2009</td>\n",
              "      <td>1:37 AM</td>\n",
              "      <td>126956</td>\n",
              "      <td>18.396</td>\n",
              "      <td>False</td>\n",
              "      <td>Human Resources</td>\n",
              "    </tr>\n",
              "    <tr>\n",
              "      <th>941</th>\n",
              "      <td>William</td>\n",
              "      <td>Male</td>\n",
              "      <td>6/26/1997</td>\n",
              "      <td>8:33 AM</td>\n",
              "      <td>104840</td>\n",
              "      <td>15.653</td>\n",
              "      <td>True</td>\n",
              "      <td>Engineering</td>\n",
              "    </tr>\n",
              "    <tr>\n",
              "      <th>112</th>\n",
              "      <td>Willie</td>\n",
              "      <td>Male</td>\n",
              "      <td>11/27/2003</td>\n",
              "      <td>6:21 AM</td>\n",
              "      <td>64363</td>\n",
              "      <td>4.023</td>\n",
              "      <td>False</td>\n",
              "      <td>Marketing</td>\n",
              "    </tr>\n",
              "  </tbody>\n",
              "</table>\n",
              "<p>199 rows × 8 columns</p>\n",
              "</div>"
            ],
            "text/plain": [
              "    First Name  Gender  Start Date  ... Bonus %  Senior Management             Team\n",
              "440      Aaron    Male   7/22/1990  ...  11.343               True  Client Services\n",
              "137       Adam    Male   5/21/2011  ...  15.120              False     Distribution\n",
              "610       Alan    Male   2/17/2012  ...  10.084              False          Product\n",
              "372     Albert    Male    2/1/1997  ...  19.717               True      Engineering\n",
              "425      Alice  Female    5/2/1986  ...   2.378               True          Finance\n",
              "..         ...     ...         ...  ...     ...                ...              ...\n",
              "899     Walter    Male   5/21/1992  ...  16.323               True        Marketing\n",
              "433      Wanda  Female   7/20/2008  ...   7.132               True            Legal\n",
              "637      Wayne    Male    9/2/2009  ...  18.396              False  Human Resources\n",
              "941    William    Male   6/26/1997  ...  15.653               True      Engineering\n",
              "112     Willie    Male  11/27/2003  ...   4.023              False        Marketing\n",
              "\n",
              "[199 rows x 8 columns]"
            ]
          },
          "metadata": {
            "tags": []
          },
          "execution_count": 12
        }
      ]
    },
    {
      "cell_type": "markdown",
      "metadata": {
        "id": "YO07KJ8qeJlm"
      },
      "source": [
        "**Removing duplicate using multiple columns in dataframe**\n",
        "\n",
        "\n",
        "---\n",
        "In this case, first the duplicates rows are remove on behave of first column, than after second column and so on...\n"
      ]
    },
    {
      "cell_type": "markdown",
      "metadata": {
        "id": "15ajvjvMh5xU"
      },
      "source": [
        "In this given example, two columns are taken to remove duplicate from dataframe"
      ]
    },
    {
      "cell_type": "code",
      "metadata": {
        "id": "5_xNfpoXV7KQ",
        "outputId": "f94c2c17-1d01-47e6-981d-c8c94d4d8027",
        "colab": {
          "base_uri": "https://localhost:8080/",
          "height": 419
        }
      },
      "source": [
        "df1.drop_duplicates(subset=['First Name', 'Team'], keep='first')"
      ],
      "execution_count": 13,
      "outputs": [
        {
          "output_type": "execute_result",
          "data": {
            "text/html": [
              "<div>\n",
              "<style scoped>\n",
              "    .dataframe tbody tr th:only-of-type {\n",
              "        vertical-align: middle;\n",
              "    }\n",
              "\n",
              "    .dataframe tbody tr th {\n",
              "        vertical-align: top;\n",
              "    }\n",
              "\n",
              "    .dataframe thead th {\n",
              "        text-align: right;\n",
              "    }\n",
              "</style>\n",
              "<table border=\"1\" class=\"dataframe\">\n",
              "  <thead>\n",
              "    <tr style=\"text-align: right;\">\n",
              "      <th></th>\n",
              "      <th>First Name</th>\n",
              "      <th>Gender</th>\n",
              "      <th>Start Date</th>\n",
              "      <th>Last Login Time</th>\n",
              "      <th>Salary</th>\n",
              "      <th>Bonus %</th>\n",
              "      <th>Senior Management</th>\n",
              "      <th>Team</th>\n",
              "    </tr>\n",
              "  </thead>\n",
              "  <tbody>\n",
              "    <tr>\n",
              "      <th>440</th>\n",
              "      <td>Aaron</td>\n",
              "      <td>Male</td>\n",
              "      <td>7/22/1990</td>\n",
              "      <td>2:53 PM</td>\n",
              "      <td>52119</td>\n",
              "      <td>11.343</td>\n",
              "      <td>True</td>\n",
              "      <td>Client Services</td>\n",
              "    </tr>\n",
              "    <tr>\n",
              "      <th>327</th>\n",
              "      <td>Aaron</td>\n",
              "      <td>Male</td>\n",
              "      <td>1/29/1994</td>\n",
              "      <td>6:48 PM</td>\n",
              "      <td>58755</td>\n",
              "      <td>5.097</td>\n",
              "      <td>True</td>\n",
              "      <td>Marketing</td>\n",
              "    </tr>\n",
              "    <tr>\n",
              "      <th>137</th>\n",
              "      <td>Adam</td>\n",
              "      <td>Male</td>\n",
              "      <td>5/21/2011</td>\n",
              "      <td>1:45 AM</td>\n",
              "      <td>95327</td>\n",
              "      <td>15.120</td>\n",
              "      <td>False</td>\n",
              "      <td>Distribution</td>\n",
              "    </tr>\n",
              "    <tr>\n",
              "      <th>538</th>\n",
              "      <td>Adam</td>\n",
              "      <td>Male</td>\n",
              "      <td>10/8/2010</td>\n",
              "      <td>9:53 PM</td>\n",
              "      <td>45181</td>\n",
              "      <td>3.491</td>\n",
              "      <td>False</td>\n",
              "      <td>Human Resources</td>\n",
              "    </tr>\n",
              "    <tr>\n",
              "      <th>141</th>\n",
              "      <td>Adam</td>\n",
              "      <td>Male</td>\n",
              "      <td>12/24/1990</td>\n",
              "      <td>8:57 PM</td>\n",
              "      <td>110194</td>\n",
              "      <td>14.727</td>\n",
              "      <td>True</td>\n",
              "      <td>Product</td>\n",
              "    </tr>\n",
              "    <tr>\n",
              "      <th>...</th>\n",
              "      <td>...</td>\n",
              "      <td>...</td>\n",
              "      <td>...</td>\n",
              "      <td>...</td>\n",
              "      <td>...</td>\n",
              "      <td>...</td>\n",
              "      <td>...</td>\n",
              "      <td>...</td>\n",
              "    </tr>\n",
              "    <tr>\n",
              "      <th>941</th>\n",
              "      <td>William</td>\n",
              "      <td>Male</td>\n",
              "      <td>6/26/1997</td>\n",
              "      <td>8:33 AM</td>\n",
              "      <td>104840</td>\n",
              "      <td>15.653</td>\n",
              "      <td>True</td>\n",
              "      <td>Engineering</td>\n",
              "    </tr>\n",
              "    <tr>\n",
              "      <th>127</th>\n",
              "      <td>William</td>\n",
              "      <td>Male</td>\n",
              "      <td>9/29/2002</td>\n",
              "      <td>4:09 PM</td>\n",
              "      <td>66521</td>\n",
              "      <td>5.830</td>\n",
              "      <td>False</td>\n",
              "      <td>Human Resources</td>\n",
              "    </tr>\n",
              "    <tr>\n",
              "      <th>112</th>\n",
              "      <td>Willie</td>\n",
              "      <td>Male</td>\n",
              "      <td>11/27/2003</td>\n",
              "      <td>6:21 AM</td>\n",
              "      <td>64363</td>\n",
              "      <td>4.023</td>\n",
              "      <td>False</td>\n",
              "      <td>Marketing</td>\n",
              "    </tr>\n",
              "    <tr>\n",
              "      <th>652</th>\n",
              "      <td>Willie</td>\n",
              "      <td>Male</td>\n",
              "      <td>12/5/2009</td>\n",
              "      <td>5:39 AM</td>\n",
              "      <td>141932</td>\n",
              "      <td>1.017</td>\n",
              "      <td>True</td>\n",
              "      <td>Engineering</td>\n",
              "    </tr>\n",
              "    <tr>\n",
              "      <th>450</th>\n",
              "      <td>Willie</td>\n",
              "      <td>Male</td>\n",
              "      <td>8/22/2009</td>\n",
              "      <td>1:03 PM</td>\n",
              "      <td>55038</td>\n",
              "      <td>19.691</td>\n",
              "      <td>False</td>\n",
              "      <td>Legal</td>\n",
              "    </tr>\n",
              "  </tbody>\n",
              "</table>\n",
              "<p>632 rows × 8 columns</p>\n",
              "</div>"
            ],
            "text/plain": [
              "    First Name Gender  Start Date  ... Bonus %  Senior Management             Team\n",
              "440      Aaron   Male   7/22/1990  ...  11.343               True  Client Services\n",
              "327      Aaron   Male   1/29/1994  ...   5.097               True        Marketing\n",
              "137       Adam   Male   5/21/2011  ...  15.120              False     Distribution\n",
              "538       Adam   Male   10/8/2010  ...   3.491              False  Human Resources\n",
              "141       Adam   Male  12/24/1990  ...  14.727               True          Product\n",
              "..         ...    ...         ...  ...     ...                ...              ...\n",
              "941    William   Male   6/26/1997  ...  15.653               True      Engineering\n",
              "127    William   Male   9/29/2002  ...   5.830              False  Human Resources\n",
              "112     Willie   Male  11/27/2003  ...   4.023              False        Marketing\n",
              "652     Willie   Male   12/5/2009  ...   1.017               True      Engineering\n",
              "450     Willie   Male   8/22/2009  ...  19.691              False            Legal\n",
              "\n",
              "[632 rows x 8 columns]"
            ]
          },
          "metadata": {
            "tags": []
          },
          "execution_count": 13
        }
      ]
    },
    {
      "cell_type": "code",
      "metadata": {
        "id": "Es9kkAfkX28h"
      },
      "source": [
        "df1.drop_duplicates(subset=['First Name', 'Team'], inplace = True)"
      ],
      "execution_count": 14,
      "outputs": []
    },
    {
      "cell_type": "code",
      "metadata": {
        "id": "bDAUmEZBX9a-",
        "outputId": "4d875473-c8f6-461f-c345-ea0df2b47f47",
        "colab": {
          "base_uri": "https://localhost:8080/"
        }
      },
      "source": [
        "df1.shape"
      ],
      "execution_count": 15,
      "outputs": [
        {
          "output_type": "execute_result",
          "data": {
            "text/plain": [
              "(632, 8)"
            ]
          },
          "metadata": {
            "tags": []
          },
          "execution_count": 15
        }
      ]
    },
    {
      "cell_type": "markdown",
      "metadata": {
        "id": "SRv4Pa34mVJe"
      },
      "source": [
        "**pandas.unique(values)**\n"
      ]
    },
    {
      "cell_type": "code",
      "metadata": {
        "id": "jiFuZpJvlIWv",
        "outputId": "0fe16ea0-6180-41d3-de7b-ba5b862081c8",
        "colab": {
          "base_uri": "https://localhost:8080/"
        }
      },
      "source": [
        "pd.unique(df['First Name'])"
      ],
      "execution_count": 16,
      "outputs": [
        {
          "output_type": "execute_result",
          "data": {
            "text/plain": [
              "array(['Aaron', 'Adam', 'Alan', 'Albert', 'Alice', 'Amanda', 'Amy',\n",
              "       'Andrea', 'Andrew', 'Angela', 'Ann', 'Anna', 'Anne', 'Annie',\n",
              "       'Anthony', 'Antonio', 'Arthur', 'Ashley', 'Barbara', 'Benjamin',\n",
              "       'Betty', 'Beverly', 'Billy', 'Bobby', 'Bonnie', 'Brandon',\n",
              "       'Brenda', 'Brian', 'Bruce', 'Carl', 'Carlos', 'Carol', 'Carolyn',\n",
              "       'Catherine', 'Charles', 'Cheryl', 'Christina', 'Christine',\n",
              "       'Christopher', 'Clarence', 'Craig', 'Cynthia', 'Daniel', 'David',\n",
              "       'Deborah', 'Debra', 'Denise', 'Dennis', 'Diana', 'Diane', 'Donald',\n",
              "       'Donna', 'Doris', 'Dorothy', 'Douglas', 'Earl', 'Edward',\n",
              "       'Elizabeth', 'Emily', 'Eric', 'Ernest', 'Eugene', 'Evelyn',\n",
              "       'Frances', 'Frank', 'Fred', 'Gary', 'George', 'Gerald', 'Gloria',\n",
              "       'Gregory', 'Harold', 'Harry', 'Heather', 'Helen', 'Henry',\n",
              "       'Howard', 'Irene', 'Jack', 'Jacqueline', 'James', 'Jane', 'Janet',\n",
              "       'Janice', 'Jason', 'Jean', 'Jeffrey', 'Jennifer', 'Jeremy',\n",
              "       'Jerry', 'Jesse', 'Jessica', 'Jimmy', 'Joan', 'Joe', 'John',\n",
              "       'Johnny', 'Jonathan', 'Jose', 'Joseph', 'Joshua', 'Joyce', 'Juan',\n",
              "       'Judith', 'Judy', 'Julia', 'Julie', 'Justin', 'Karen', 'Katherine',\n",
              "       'Kathleen', 'Kathryn', 'Kathy', 'Keith', 'Kelly', 'Kenneth',\n",
              "       'Kevin', 'Kimberly', 'Larry', 'Laura', 'Lawrence', 'Lillian',\n",
              "       'Linda', 'Lisa', 'Lois', 'Lori', 'Louis', 'Louise', 'Margaret',\n",
              "       'Maria', 'Marie', 'Marilyn', 'Mark', 'Martha', 'Martin', 'Mary',\n",
              "       'Matthew', 'Melissa', 'Michael', 'Michelle', 'Mildred', 'Nancy',\n",
              "       'Nicholas', 'Nicole', 'Norma', 'Pamela', 'Patricia', 'Patrick',\n",
              "       'Paul', 'Paula', 'Peter', 'Philip', 'Phillip', 'Phyllis', 'Rachel',\n",
              "       'Ralph', 'Randy', 'Raymond', 'Rebecca', 'Richard', 'Robert',\n",
              "       'Robin', 'Roger', 'Ronald', 'Rose', 'Roy', 'Ruby', 'Russell',\n",
              "       'Ruth', 'Ryan', 'Samuel', 'Sandra', 'Sara', 'Sarah', 'Scott',\n",
              "       'Sean', 'Sharon', 'Shawn', 'Shirley', 'Stephanie', 'Stephen',\n",
              "       'Steve', 'Steven', 'Susan', 'Tammy', 'Teresa', 'Terry', 'Theresa',\n",
              "       'Thomas', 'Timothy', 'Tina', 'Todd', 'Victor', 'Virginia',\n",
              "       'Walter', 'Wanda', 'Wayne', 'William', 'Willie'], dtype=object)"
            ]
          },
          "metadata": {
            "tags": []
          },
          "execution_count": 16
        }
      ]
    }
  ]
}